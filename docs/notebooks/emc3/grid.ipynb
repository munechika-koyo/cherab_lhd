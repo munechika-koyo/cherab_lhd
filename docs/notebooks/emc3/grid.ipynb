{
 "cells": [
  {
   "cell_type": "markdown",
   "metadata": {},
   "source": [
    "# Grid lines defined by EMC3-EIRENE\n",
    "\n",
    "Here we plot the grid lines defined by EMC3-EIRENE."
   ]
  },
  {
   "cell_type": "code",
   "execution_count": null,
   "metadata": {},
   "outputs": [],
   "source": [
    "from matplotlib import pyplot as plt\n",
    "\n",
    "from cherab.lhd.emc3 import Grid"
   ]
  },
  {
   "cell_type": "markdown",
   "metadata": {},
   "source": [
    "## Grid lines for one zone"
   ]
  },
  {
   "cell_type": "markdown",
   "metadata": {},
   "source": [
    "Let us first instantiate the `Grid` class, where we automatically load the grid data."
   ]
  },
  {
   "cell_type": "code",
   "execution_count": null,
   "metadata": {},
   "outputs": [],
   "source": [
    "grid = Grid(\"zone0\")\n",
    "grid"
   ]
  },
  {
   "cell_type": "markdown",
   "metadata": {},
   "source": [
    "Then we plot the grid lines in the poloidal plane.\n"
   ]
  },
  {
   "cell_type": "code",
   "execution_count": null,
   "metadata": {},
   "outputs": [],
   "source": [
    "grid.plot(linewidth=0.1)"
   ]
  },
  {
   "cell_type": "markdown",
   "metadata": {},
   "source": [
    "Let us plot the grid lines at several toroidal angles.\n"
   ]
  },
  {
   "cell_type": "code",
   "execution_count": null,
   "metadata": {},
   "outputs": [],
   "source": [
    "fig, ax = plt.subplots(dpi=150)\n",
    "n_phis = [0, 20, -1]\n",
    "for i, n_phi in enumerate(n_phis):\n",
    "    fig, ax = grid.plot(\n",
    "        fig=fig,\n",
    "        ax=ax,\n",
    "        n_phi=n_phi,\n",
    "        linewidth=0.1,\n",
    "        color=f\"C{i}\",\n",
    "        show_phi=False,\n",
    "    )\n",
    "\n",
    "# Add a legend\n",
    "phis = grid.dataset[\"ζ\"]\n",
    "proxy = [plt.Line2D([0], [0], color=f\"C{i}\", lw=2) for i in range(len(n_phis))]\n",
    "ax.legend(proxy, [f\"$\\\\phi=${phi}°\" for phi in phis.isel(ζ=n_phis).data]);"
   ]
  },
  {
   "cell_type": "markdown",
   "metadata": {},
   "source": [
    "You can also plot the grid outlines in the poloidal plane."
   ]
  },
  {
   "cell_type": "code",
   "execution_count": null,
   "metadata": {},
   "outputs": [],
   "source": [
    "grid.plot_outline()"
   ]
  },
  {
   "cell_type": "markdown",
   "metadata": {},
   "source": [
    "## Grid lines for several zones\n",
    "\n",
    "EMC3-EIRENE-defined grid for LHD is divided into several zones.\n",
    "We can plot the grid lines with different colors for each zone."
   ]
  },
  {
   "cell_type": "code",
   "execution_count": null,
   "metadata": {},
   "outputs": [],
   "source": [
    "zones = [\"zone11\", \"zone12\", \"zone13\", \"zone14\", \"zone15\"]\n",
    "\n",
    "fig, ax = plt.subplots(dpi=200)\n",
    "show_phi = True\n",
    "for i, zone in enumerate(zones):\n",
    "    Grid(zone).plot(fig=fig, ax=ax, linewidth=0.1, n_phi=-1, show_phi=show_phi, color=f\"C{i}\")\n",
    "    show_phi = False\n",
    "\n",
    "# Add a legend\n",
    "proxy = [plt.Line2D([0], [0], color=f\"C{i}\", lw=2) for i in range(len(zones))]\n",
    "ax.legend(proxy, [f\"{zone}\" for zone in zones]);"
   ]
  },
  {
   "cell_type": "markdown",
   "metadata": {},
   "source": [
    "## Coarse grid lines\n",
    "\n",
    "We define a coarse grid by selecting specific grid lines, which are intended to be used for\n",
    "tomography reconstruction.\n",
    "Here we compare the coarse grid with the original grid."
   ]
  },
  {
   "cell_type": "code",
   "execution_count": null,
   "metadata": {},
   "outputs": [],
   "source": [
    "fig, ax = plt.subplots(dpi=200)\n",
    "grid = Grid(\"zone0\")\n",
    "grid.plot(ax=ax, linewidth=0.25, n_phi=-10)\n",
    "grid.plot_coarse(ax=ax, color=\"red\", linewidth=0.5, n_phi=-10)\n",
    "\n",
    "# Add a legend\n",
    "proxy = [plt.Line2D([], [], color=color) for color in [\"black\", \"red\"]]\n",
    "ax.legend(proxy, [\"Fine\", \"Coarse\"], fontsize=10, loc=\"lower right\");"
   ]
  }
 ],
 "metadata": {
  "kernelspec": {
   "display_name": "lab",
   "language": "python",
   "name": "python3"
  },
  "language_info": {
   "codemirror_mode": {
    "name": "ipython",
    "version": 3
   },
   "file_extension": ".py",
   "mimetype": "text/x-python",
   "name": "python",
   "nbconvert_exporter": "python",
   "pygments_lexer": "ipython3",
   "version": "3.12.8"
  }
 },
 "nbformat": 4,
 "nbformat_minor": 2
}
