{
 "cells": [
  {
   "cell_type": "markdown",
   "metadata": {},
   "source": [
    "# Rays from a Resistive Bolometer\n",
    "\n",
    "This notebook shows how rays generated from Resistive Bolometers (RBs) propagate through plasma."
   ]
  },
  {
   "cell_type": "code",
   "execution_count": null,
   "metadata": {},
   "outputs": [],
   "source": [
    "from itertools import cycle\n",
    "\n",
    "from plotly import graph_objects as go\n",
    "from plotly import io as pio\n",
    "from raysect.core import World\n",
    "from raysect.optical.ray import Ray\n",
    "from raysect.primitive import Mesh\n",
    "\n",
    "from cherab.lhd.observer.bolometer import load_resistive\n",
    "from cherab.lhd.tools.fetch import fetch_file\n",
    "\n",
    "# Comment out the following line to view the plot interactively\n",
    "pio.renderers.default = \"png\""
   ]
  },
  {
   "cell_type": "markdown",
   "metadata": {},
   "source": [
    "## Create scene graph\n"
   ]
  },
  {
   "cell_type": "markdown",
   "metadata": {},
   "source": [
    "Firstly, let us create root node of officials, called `world`.\n"
   ]
  },
  {
   "cell_type": "code",
   "execution_count": null,
   "metadata": {},
   "outputs": [],
   "source": [
    "world = World()"
   ]
  },
  {
   "cell_type": "markdown",
   "metadata": {},
   "source": [
    "Load plasma volume\n"
   ]
  },
  {
   "cell_type": "code",
   "execution_count": null,
   "metadata": {},
   "outputs": [],
   "source": [
    "plasma = Mesh.from_file(fetch_file(\"machine/plasma_quarter.rsm\"), parent=world, name=\"plasma\")"
   ]
  },
  {
   "cell_type": "markdown",
   "metadata": {},
   "source": [
    "And, we will load one resistive bolometer.\n"
   ]
  },
  {
   "cell_type": "code",
   "execution_count": null,
   "metadata": {},
   "outputs": [],
   "source": [
    "rb = load_resistive(port=\"6.5L\", model_variant=\"O\", parent=world)"
   ]
  },
  {
   "cell_type": "markdown",
   "metadata": {},
   "source": [
    "## Show rays from RBs with plasma\n"
   ]
  },
  {
   "cell_type": "code",
   "execution_count": null,
   "metadata": {
    "tags": [
     "nbsphinx-thumbnail"
    ]
   },
   "outputs": [],
   "source": [
    "fig = go.Figure()\n",
    "\n",
    "# ---------------\n",
    "# === RB rays ===\n",
    "# ---------------\n",
    "color_cycle = cycle(\n",
    "    [\n",
    "        \"#1f77b4\",\n",
    "        \"#ff7f0e\",\n",
    "        \"#2ca02c\",\n",
    "        \"#d62728\",\n",
    "        \"#9467bd\",\n",
    "        \"#8c564b\",\n",
    "        \"#e377c2\",\n",
    "        \"#7f7f7f\",\n",
    "        \"#bcbd22\",\n",
    "        \"#17becf\",\n",
    "    ]\n",
    ")\n",
    "for foil, color in zip(rb.foil_detectors, color_cycle, strict=False):\n",
    "    for ray in foil._generate_rays(Ray(), 100):\n",
    "        x0, y0, z0 = ray[0].origin.transform(foil.to_root())\n",
    "        x1, y1, z1 = ray[0].point_on(5).transform(foil.to_root())\n",
    "        fig.add_trace(\n",
    "            go.Scatter3d(\n",
    "                x=[x0, x1],\n",
    "                y=[y0, y1],\n",
    "                z=[z0, z1],\n",
    "                mode=\"lines\",\n",
    "                line=dict(color=color, width=1),\n",
    "                showlegend=False,\n",
    "                # hoverinfo=\"skip\",\n",
    "            )\n",
    "        )\n",
    "# ---------------------\n",
    "# === Plasma volume ===\n",
    "# ---------------------\n",
    "x, y, z = plasma.data.vertices.T\n",
    "index_i, index_j, index_k = plasma.data.triangles.T\n",
    "plasma_mesh = go.Mesh3d(\n",
    "    x=x,\n",
    "    y=y,\n",
    "    z=z,\n",
    "    i=index_i,\n",
    "    j=index_j,\n",
    "    k=index_k,\n",
    "    flatshading=False,\n",
    "    color=\"#ADD8E6\",  # Light blue color\n",
    "    opacity=0.2,\n",
    "    name=\"Plasma\",\n",
    "    showscale=False,\n",
    "    hoverinfo=\"skip\",\n",
    "    showlegend=True,\n",
    ")\n",
    "fig.add_trace(plasma_mesh)\n",
    "\n",
    "# Update visibility\n",
    "fig.update_scenes(\n",
    "    xaxis_visible=False,\n",
    "    yaxis_visible=False,\n",
    "    zaxis_visible=False,\n",
    ")\n",
    "camera = dict(\n",
    "    up=dict(x=0, y=0, z=1),\n",
    "    center=dict(x=0, y=0, z=0.05),\n",
    "    eye=dict(x=-1.1, y=-0.2, z=0.4),\n",
    ")\n",
    "fig.update_layout(\n",
    "    width=600,\n",
    "    height=500,\n",
    "    scene_camera=camera,\n",
    "    showlegend=False,\n",
    "    scene_aspectmode=\"data\",\n",
    "    margin=dict(r=0, l=0, b=0, t=0),\n",
    "    legend=dict(yanchor=\"top\", y=0.99, xanchor=\"left\", x=0.01),\n",
    ")"
   ]
  },
  {
   "cell_type": "markdown",
   "metadata": {},
   "source": [
    "Export the figure to a image file"
   ]
  },
  {
   "cell_type": "code",
   "execution_count": null,
   "metadata": {},
   "outputs": [],
   "source": [
    "# fig.write_image(\"bolo_rb_rays1.pdf\", scale=3)\n",
    "# fig.write_image(\"bolo_rb_rays1.png\", scale=1)"
   ]
  },
  {
   "cell_type": "code",
   "execution_count": null,
   "metadata": {},
   "outputs": [],
   "source": [
    "fig = go.Figure()\n",
    "\n",
    "# ---------------\n",
    "# === RB rays ===\n",
    "# ---------------\n",
    "color_cycle = cycle(\n",
    "    [\n",
    "        \"#1f77b4\",\n",
    "        \"#ff7f0e\",\n",
    "        \"#2ca02c\",\n",
    "        \"#d62728\",\n",
    "        \"#9467bd\",\n",
    "        \"#8c564b\",\n",
    "        \"#e377c2\",\n",
    "        \"#7f7f7f\",\n",
    "        \"#bcbd22\",\n",
    "        \"#17becf\",\n",
    "    ]\n",
    ")\n",
    "for foil, color in zip(rb.foil_detectors, color_cycle, strict=False):\n",
    "    for ray in foil._generate_rays(Ray(), 100):\n",
    "        x0, y0, z0 = ray[0].origin.transform(foil.to_root())\n",
    "        x1, y1, z1 = ray[0].point_on(5).transform(foil.to_root())\n",
    "        fig.add_trace(\n",
    "            go.Scatter3d(\n",
    "                x=[x0, x1],\n",
    "                y=[y0, y1],\n",
    "                z=[z0, z1],\n",
    "                mode=\"lines\",\n",
    "                line=dict(color=color, width=1),\n",
    "                showlegend=False,\n",
    "                # hoverinfo=\"skip\",\n",
    "            )\n",
    "        )\n",
    "# ---------------------\n",
    "# === Plasma volume ===\n",
    "# ---------------------\n",
    "x, y, z = plasma.data.vertices.T\n",
    "index_i, index_j, index_k = plasma.data.triangles.T\n",
    "plasma_mesh = go.Mesh3d(\n",
    "    x=x,\n",
    "    y=y,\n",
    "    z=z,\n",
    "    i=index_i,\n",
    "    j=index_j,\n",
    "    k=index_k,\n",
    "    flatshading=False,\n",
    "    color=\"#ADD8E6\",  # Light blue color\n",
    "    opacity=0.2,\n",
    "    name=\"Plasma\",\n",
    "    showscale=False,\n",
    "    hoverinfo=\"skip\",\n",
    "    showlegend=True,\n",
    ")\n",
    "fig.add_trace(plasma_mesh)\n",
    "\n",
    "# Update visibility\n",
    "fig.update_scenes(\n",
    "    xaxis_visible=False,\n",
    "    yaxis_visible=False,\n",
    "    zaxis_visible=False,\n",
    ")\n",
    "camera = dict(\n",
    "    up=dict(x=0, y=0, z=1),\n",
    "    center=dict(x=0.05, y=-0.2, z=0),\n",
    "    eye=dict(x=0.05, y=-0.2, z=1.2),\n",
    ")\n",
    "fig.update_layout(\n",
    "    width=600,\n",
    "    height=500,\n",
    "    scene_camera=camera,\n",
    "    showlegend=False,\n",
    "    scene_aspectmode=\"data\",\n",
    "    margin=dict(r=0, l=0, b=0, t=0),\n",
    "    legend=dict(yanchor=\"top\", y=0.99, xanchor=\"left\", x=0.01),\n",
    ")"
   ]
  },
  {
   "cell_type": "code",
   "execution_count": null,
   "metadata": {},
   "outputs": [],
   "source": [
    "# fig.write_image(\"bolo_rb_rays2.pdf\", scale=3)"
   ]
  }
 ],
 "metadata": {
  "kernelspec": {
   "display_name": "lab",
   "language": "python",
   "name": "python3"
  },
  "language_info": {
   "codemirror_mode": {
    "name": "ipython",
    "version": 3
   },
   "file_extension": ".py",
   "mimetype": "text/x-python",
   "name": "python",
   "nbconvert_exporter": "python",
   "pygments_lexer": "ipython3",
   "version": "3.12.8"
  }
 },
 "nbformat": 4,
 "nbformat_minor": 2
}
