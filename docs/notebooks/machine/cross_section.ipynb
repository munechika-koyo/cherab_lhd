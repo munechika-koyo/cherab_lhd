{
 "cells": [
  {
   "cell_type": "markdown",
   "id": "3d017c31",
   "metadata": {},
   "source": [
    "LHD Wall Outline\n",
    "================\n",
    "\n",
    "This notebook demonstrates plotting LHD wall oulines cutting at arbitrary troidal angle $\\phi$."
   ]
  },
  {
   "cell_type": "code",
   "execution_count": null,
   "id": "4b80e5f0-5437-41f8-97c7-95066a454146",
   "metadata": {},
   "outputs": [],
   "source": [
    "import os\n",
    "import numpy as np\n",
    "from matplotlib import pyplot as plt\n",
    "from cherab.lhd.tools.visualization import set_axis_properties\n",
    "plt.rcParams[\"figure.dpi\"] = 200\n",
    "\n",
    "PATH_WALL_DATA = os.path.join(os.getcwd().split(\"docs\")[0], \"cherab\", \"lhd\", \"machine\", \"geometry\", \"data\", \"wall_outline\")"
   ]
  },
  {
   "cell_type": "markdown",
   "id": "f49f1780",
   "metadata": {},
   "source": [
    "Plotting wall outline from stored data\n",
    "---"
   ]
  },
  {
   "cell_type": "code",
   "execution_count": null,
   "id": "e3984979-7a0f-49e0-b73d-2c2b5e489654",
   "metadata": {},
   "outputs": [],
   "source": [
    "# list up files written wall contours\n",
    "files = os.listdir(PATH_WALL_DATA)\n",
    "files.sort()"
   ]
  },
  {
   "cell_type": "code",
   "execution_count": null,
   "id": "6d4748c4-f604-4049-a281-cc8e71b6969a",
   "metadata": {},
   "outputs": [],
   "source": [
    "# Plot some wall outlines from stored data in text file\n",
    "fig, ax = plt.subplots(constrained_layout=True)\n",
    "for file in files[0: 3]:\n",
    "    cross = np.loadtxt(os.path.join(PATH_WALL_DATA, file)) * 1.0e-3  # [cm] -> [m]\n",
    "    ax.plot(cross[:, 0], cross[:, 1], label=f\"{file}\")\n",
    "    ax.set_aspect(\"equal\")\n",
    "ax.legend()\n",
    "ax = set_axis_properties(ax)\n",
    "ax.set_ylabel(\"Z[m]\");"
   ]
  },
  {
   "cell_type": "markdown",
   "id": "69ad880a-f600-4691-9fdc-efbaa29379a9",
   "metadata": {},
   "source": [
    "Plotting wall outlines cutting at arbitrary toroidal angle $\\phi$\n",
    "---"
   ]
  },
  {
   "cell_type": "code",
   "execution_count": null,
   "id": "5e1f5bc1",
   "metadata": {},
   "outputs": [],
   "source": [
    "from cherab.lhd.machine import wall_outline"
   ]
  },
  {
   "cell_type": "code",
   "execution_count": null,
   "id": "c88f90f0",
   "metadata": {},
   "outputs": [],
   "source": [
    "# Plot some wall outlines at arbitrary toroidal angle\n",
    "fig, ax = plt.subplots(constrained_layout=True)\n",
    "for phi in np.linspace(0, 1, 5):\n",
    "    cross = wall_outline(phi)\n",
    "    ax.plot(cross[:, 0], cross[:, 1], label=f\"$\\phi$ = {phi:.2f}$^\\circ$\")\n",
    "    ax.set_aspect(\"equal\")\n",
    "ax.legend()\n",
    "ax = set_axis_properties(ax)\n",
    "ax.set_ylabel(\"Z[m]\");"
   ]
  },
  {
   "cell_type": "code",
   "execution_count": null,
   "id": "8dcd401e",
   "metadata": {},
   "outputs": [],
   "source": [
    "from mpl_toolkits.axisartist.axes_grid import ImageGrid"
   ]
  },
  {
   "cell_type": "code",
   "execution_count": null,
   "id": "d9cf04ea",
   "metadata": {
    "tags": [
     "nbsphinx-thumbnail"
    ]
   },
   "outputs": [],
   "source": [
    "fig = plt.figure()\n",
    "grids = ImageGrid(fig, 111, (2, 3), axes_pad=0.0)\n",
    "for ax, phi in zip(grids, np.linspace(0, 18, 6)):\n",
    "    cross = wall_outline(phi)\n",
    "    ax.plot(cross[:, 0], cross[:, 1], label=f\"$\\phi$ = {phi:.2f}$^\\circ$\")\n",
    "    ax.set_aspect(\"equal\")\n",
    "    ax.legend(fontsize=5, loc=\"upper left\")\n",
    "    ax = set_axis_properties(ax)\n",
    "grids[0].set_ylabel(\"Z[m]\")\n",
    "grids[3].set_ylabel(\"Z[m]\");"
   ]
  }
 ],
 "metadata": {
  "kernelspec": {
   "display_name": "Cherab Env",
   "language": "python",
   "name": "cherab"
  },
  "language_info": {
   "codemirror_mode": {
    "name": "ipython",
    "version": 3
   },
   "file_extension": ".py",
   "mimetype": "text/x-python",
   "name": "python",
   "nbconvert_exporter": "python",
   "pygments_lexer": "ipython3",
   "version": "3.10.5"
  },
  "widgets": {
   "application/vnd.jupyter.widget-state+json": {
    "state": {},
    "version_major": 2,
    "version_minor": 0
   }
  }
 },
 "nbformat": 4,
 "nbformat_minor": 5
}
