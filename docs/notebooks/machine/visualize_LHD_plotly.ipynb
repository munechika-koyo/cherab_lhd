{
 "cells": [
  {
   "cell_type": "markdown",
   "id": "4e47b09d-4acd-4ff3-b4fb-f47df937d314",
   "metadata": {},
   "source": [
    "Visualize LHD meshes with plotly\n",
    "==="
   ]
  },
  {
   "cell_type": "code",
   "execution_count": null,
   "id": "b83b9d9e-6520-4499-87e6-3b1aee53492b",
   "metadata": {},
   "outputs": [],
   "source": [
    "import os\n",
    "import numpy as np\n",
    "from stl import mesh\n",
    "import plotly.graph_objects as go\n",
    "\n",
    "CHERAB_ROOT = os.getcwd().split(\"docs\")[0]\n",
    "STL_DIR = os.path.join(CHERAB_ROOT, \"cherab/lhd/machine/geometry/data/STLfiles\")\n"
   ]
  },
  {
   "cell_type": "markdown",
   "id": "6fc01b1a-4ba7-45b9-9f17-178f1c757c90",
   "metadata": {},
   "source": [
    "Define local function to convert stl to maeh3D format for plotly\n",
    "---"
   ]
  },
  {
   "cell_type": "code",
   "execution_count": null,
   "id": "ce3f275f-c013-42bc-9f91-5ccd716cd3d2",
   "metadata": {},
   "outputs": [],
   "source": [
    "def stl2mesh3d(stl_mesh):\n",
    "    \"\"\"Extracts the unique vertices and the lists I, J, K to define a Plotly mesh3d\n",
    "\n",
    "    Parameters\n",
    "    ----------\n",
    "    stl_mesh : :obj:`stl.base.BaseMesh`\n",
    "        loaded by numpy-stl module from a stl file\n",
    "\n",
    "    Returns\n",
    "    -------\n",
    "    numpy.ndarray\n",
    "        2D-array of vertices\n",
    "    numpy.ndarray\n",
    "        A vector of vertex indices, representing the \"first\" vertex of triangle\n",
    "    numpy.ndarray\n",
    "        A vector of vertex indices, representing the \"second\" vertex of triangle\n",
    "    numpy.ndarray\n",
    "        A vector of vertex indices, representing the \"third\" vertex of triangle\n",
    "    \"\"\"\n",
    "    p, q, r = stl_mesh.vectors.shape  # (p, 3, 3)\n",
    "    # the array stl_mesh.vectors.reshape(p * q, r) can contain multiple copies of the same vertex;\n",
    "    # extract unique vertices from all mesh triangles\n",
    "    vertices, ixr = np.unique(stl_mesh.vectors.reshape(p * q, r), return_inverse=True, axis=0)\n",
    "    I = np.take(ixr, [3 * k for k in range(p)])\n",
    "    J = np.take(ixr, [3 * k + 1 for k in range(p)])\n",
    "    K = np.take(ixr, [3 * k + 2 for k in range(p)])\n",
    "    return vertices, I, J, K\n"
   ]
  },
  {
   "cell_type": "markdown",
   "id": "22c1540e-6e11-4847-ae23-0157b132eb82",
   "metadata": {},
   "source": [
    "Vessel Wall + plasma\n",
    "---"
   ]
  },
  {
   "cell_type": "code",
   "execution_count": null,
   "id": "860751ab-bf5c-4f88-b9f6-6e2ef96be5e7",
   "metadata": {},
   "outputs": [],
   "source": [
    "# === Load Vessel =============================================================\n",
    "vessel = mesh.Mesh.from_file(os.path.join(STL_DIR, \"vessel.stl\"))\n",
    "vertices, I, J, K = stl2mesh3d(vessel)\n",
    "x, y, z = vertices.T\n",
    "\n",
    "# set figure\n",
    "fig = go.Figure()\n",
    "\n",
    "vessel_mesh = go.Mesh3d(\n",
    "    x=x,\n",
    "    y=y,\n",
    "    z=z,\n",
    "    i=I,\n",
    "    j=J,\n",
    "    k=K,\n",
    "    flatshading=True,\n",
    "    colorscale=[[0, \"#e5dee5\"], [1, \"#e5dee5\"]],\n",
    "    opacity=0.5,\n",
    "    intensity=z,\n",
    "    name=\"Vessel\",\n",
    "    showscale=False,\n",
    "    hoverinfo=\"skip\",\n",
    "    lighting=dict(\n",
    "        ambient=0.18, diffuse=1, fresnel=0.1, specular=0, roughness=0.1, facenormalsepsilon=0\n",
    "    ),\n",
    "    lightposition=dict(x=3000, y=3000, z=10000),\n",
    ")\n",
    "\n",
    "fig.add_trace(vessel_mesh)\n",
    "\n",
    "# === Load Plasma =============================================================\n",
    "plasma = mesh.Mesh.from_file(os.path.join(STL_DIR, \"plasma.stl\"))\n",
    "vertices, I, J, K = stl2mesh3d(plasma)\n",
    "x, y, z = vertices.T\n",
    "\n",
    "plasma_mesh = go.Mesh3d(\n",
    "    x=x,\n",
    "    y=y,\n",
    "    z=z,\n",
    "    i=I,\n",
    "    j=J,\n",
    "    k=K,\n",
    "    flatshading=True,\n",
    "    color=\"#FF00FF\",\n",
    "    opacity=0.1,\n",
    "    # intensity=z,\n",
    "    name=\"Plasma\",\n",
    "    showscale=False,\n",
    "    hoverinfo=\"skip\",\n",
    ")\n",
    "\n",
    "fig.add_trace(plasma_mesh)\n",
    "\n",
    "# === update figure layout ====================================================\n",
    "fig.update_scenes(\n",
    "    xaxis_visible=False,\n",
    "    yaxis_visible=False,\n",
    "    zaxis_visible=False,\n",
    ")\n",
    "camera = dict(up=dict(x=0, y=0, z=1), center=dict(x=0, y=0, z=0), eye=dict(x=1.0, y=1.0, z=1.0))\n",
    "fig.update_layout(\n",
    "    paper_bgcolor=\"rgb(1,1,1)\",\n",
    "    title_text=\"Vessel Wall + Plasma\",\n",
    "    title_x=0.5,\n",
    "    font_color=\"white\",\n",
    "    width=700,\n",
    "    height=600,\n",
    "    scene_camera=camera,\n",
    "    margin=dict(r=10, l=10, b=10, t=40),\n",
    ")\n",
    "\n",
    "# save as html\n",
    "# fig.write_html(os.path.join(STL_DIR, \"vessel.html\"))\n",
    "\n",
    "fig.show()\n"
   ]
  }
 ],
 "metadata": {
  "kernelspec": {
   "display_name": "Python 3.10.6 ('cherab')",
   "language": "python",
   "name": "python3"
  },
  "language_info": {
   "codemirror_mode": {
    "name": "ipython",
    "version": 3
   },
   "file_extension": ".py",
   "mimetype": "text/x-python",
   "name": "python",
   "nbconvert_exporter": "python",
   "pygments_lexer": "ipython3",
   "version": "3.10.6"
  },
  "vscode": {
   "interpreter": {
    "hash": "e695eec207471a0842153f3761b67117a0d2cad11a543698a28576a5a2ee6ff0"
   }
  },
  "widgets": {
   "application/vnd.jupyter.widget-state+json": {
    "state": {},
    "version_major": 2,
    "version_minor": 0
   }
  }
 },
 "nbformat": 4,
 "nbformat_minor": 5
}
